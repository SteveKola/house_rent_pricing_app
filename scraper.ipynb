{
 "cells": [
  {
   "cell_type": "code",
   "execution_count": 3,
   "metadata": {},
   "outputs": [],
   "source": [
    "import requests\n",
    "import numpy as np\n",
    "import pandas as pd\n",
    "from bs4 import BeautifulSoup"
   ]
  },
  {
   "cell_type": "markdown",
   "metadata": {},
   "source": [
    "### Pulling down the Listing Data"
   ]
  },
  {
   "cell_type": "code",
   "execution_count": 7,
   "metadata": {},
   "outputs": [],
   "source": [
    "r = requests.get('https://www.propertypro.ng/property-for-rent?search=&type=&bedroom=&min_price=&max_price=')\n",
    "\n",
    "soup = BeautifulSoup(r.content, 'html5lib')"
   ]
  },
  {
   "cell_type": "code",
   "execution_count": 20,
   "metadata": {},
   "outputs": [
    {
     "name": "stdout",
     "output_type": "stream",
     "text": [
      "Number of apartment listings on a page: 20\n"
     ]
    }
   ],
   "source": [
    "listing_divs = soup.select('div[class=single-room-sale\\ listings-property]')\n",
    "print(\"Number of apartment listings on a page:\", len(listing_divs))"
   ]
  },
  {
   "cell_type": "code",
   "execution_count": 21,
   "metadata": {},
   "outputs": [
    {
     "data": {
      "text/plain": [
       "<div class=\"single-room-sale listings-property\">\n",
       "<div class=\"single-room-img\">\n",
       "<a class=\"single-room-img-a\" href=\"/property/4-bedroom-detached-duplex-house-for-rent-queen-elizabeth-by-villa-asokoro-abuja-5EDMD\"> <img alt=\"4 bedroom Detached Duplex House for rent Queen Elizabeth by Villa Asokoro Abuja\" class=\"listings-img\" src=\"https://images.propertypro.ng/medium/tastefully-finished-4bedroom-duplex-pGVL3qqyjNbyAC0eWEQB.jpg\" title=\"4 bedroom Detached Duplex House for rent Queen Elizabeth by Villa Asokoro Abuja\"/> </a>\n",
       "<div class=\"save-heart\">\n",
       "<a href=\"/profile/add-favorite/578529\"><i class=\"fa fa-heart\"></i></a>\n",
       "</div>\n",
       "<div class=\"room-icons\">\n",
       "<span><span>24</span> <img alt=\"icon\" src=\"/assets/assets/img/property/2f8b655773948c43f77e8c928e94bbe3-img.png\"/> </span>\n",
       "</div>\n",
       "\n",
       "</div>\n",
       "<div class=\"single-room-text\">\n",
       "<a href=\"/property/4-bedroom-detached-duplex-house-for-rent-queen-elizabeth-by-villa-asokoro-abuja-5EDMD\"> <h2 class=\"listings-property-title\">4 BEDROOM DETACHED DUPLEX HOUSE FOR RENT</h2> </a>\n",
       "<h4><img alt=\"icon\" src=\"/assets/assets/img/resultpage/a6b70a0c1c4423f60780bdda189b91e3-location.svg\" title=\"icon\"/>Queen Elizabeth by VillaAsokoro Abuja</h4>\n",
       "<h3 class=\"listings-property-title2\">Tastefully finished 4bedroom duplex</h3>\n",
       "<div class=\"n50\">\n",
       "<h3 class=\"listings-price\" itemscope=\"\" itemtype=\"http://schema.org/Offer\"> <span content=\"NGN\" itemprop=\"priceCurrency\">₦</span> <span content=\"1.5E7\" itemprop=\"price\">15,000,000</span> </h3>\n",
       "<h4>Premium Gold</h4>\n",
       "</div>\n",
       "<h5> <img alt=\"icon\" src=\"/assets/assets/img/resultpage/03a0a19c8a1e23ef8d78f6130eb0aa22-watch-icon.png\" title=\"icon\"/> Added 29 Dec 2020 </h5>\n",
       "<h2>PID: 5EDMD</h2>\n",
       "<div class=\"furnished-btn\">\n",
       "<a href=\"/property-for-rent/is-serviced\">Serviced</a>\n",
       "<a href=\"/property-for-rent/is-new\">Newly Built</a>\n",
       "</div>\n",
       "<div class=\"result-list-details\">\n",
       "<p class=\"d-none d-sm-block\"> FOR RENT: Well renovated 4 bedroom duplex with 2 bedroom quest charlet with 2 room bq for .. <a href=\"/property/4-bedroom-detached-duplex-house-for-rent-queen-elizabeth-by-villa-asokoro-abuja-5EDMD\">Read more</a> </p>\n",
       "</div>\n",
       "<div class=\"fur-areea\">\n",
       "<span><img alt=\"bed-icon\" src=\"/assets/assets/img/resultpage/71e561d192ed8abb553ba6448816466d-beds.svg\" title=\"bed-icon\"/>4 beds</span>\n",
       "<span><img alt=\"bath-icon\" src=\"/assets/assets/img/resultpage/3945e8adbd5fbe44046a606d2dacd7ca-bath.svg\" title=\"bath-icon\"/>4 baths</span>\n",
       "<span><img alt=\"toilet-icon\" src=\"/assets/assets/img/resultpage/0a8c8b34dbdfcc7b9d5eaeca83e87ebf-toilet.svg\" title=\"toilet-icon\"/>5 Toilets</span>\n",
       "</div>\n",
       "<div class=\"elite-icon\">\n",
       "<a href=\"/agent/shedrack-luka\"><img alt=\"agent-icon\" src=\"https://images.propertypro.ng/logo/yvrJS53KjOdilLsar57n.jpg\" title=\"agent-icon\"/></a>\n",
       "</div>\n",
       "</div>\n",
       "</div>"
      ]
     },
     "execution_count": 21,
     "metadata": {},
     "output_type": "execute_result"
    }
   ],
   "source": [
    "listing_divs[0]"
   ]
  },
  {
   "cell_type": "code",
   "execution_count": 33,
   "metadata": {},
   "outputs": [
    {
     "data": {
      "text/plain": [
       "'Queen Elizabeth by VillaAsokoro Abuja'"
      ]
     },
     "execution_count": 33,
     "metadata": {},
     "output_type": "execute_result"
    }
   ],
   "source": [
    "listing_divs[0].select('h4')[0].text"
   ]
  },
  {
   "cell_type": "code",
   "execution_count": 49,
   "metadata": {},
   "outputs": [
    {
     "data": {
      "text/plain": [
       "'₦ 15,000,000'"
      ]
     },
     "execution_count": 49,
     "metadata": {},
     "output_type": "execute_result"
    }
   ],
   "source": [
    "listing_divs[0].select('h3[class*=listings-price]')[0].text.strip()"
   ]
  },
  {
   "cell_type": "code",
   "execution_count": 55,
   "metadata": {},
   "outputs": [
    {
     "data": {
      "text/plain": [
       "['4 beds', '4 baths', '5 Toilets']"
      ]
     },
     "execution_count": 55,
     "metadata": {},
     "output_type": "execute_result"
    }
   ],
   "source": [
    "listing_divs[0].select('div[class*=fur-areea]')[0].text.strip().split('\\n')"
   ]
  },
  {
   "cell_type": "markdown",
   "metadata": {},
   "source": [
    "Now that I've gotten all the relevant information, I'll put all the codes together;"
   ]
  },
  {
   "cell_type": "code",
   "execution_count": null,
   "metadata": {},
   "outputs": [],
   "source": []
  }
 ],
 "metadata": {
  "kernelspec": {
   "display_name": "Python 3",
   "language": "python",
   "name": "python3"
  },
  "language_info": {
   "codemirror_mode": {
    "name": "ipython",
    "version": 3
   },
   "file_extension": ".py",
   "mimetype": "text/x-python",
   "name": "python",
   "nbconvert_exporter": "python",
   "pygments_lexer": "ipython3",
   "version": "3.8.3"
  }
 },
 "nbformat": 4,
 "nbformat_minor": 4
}
